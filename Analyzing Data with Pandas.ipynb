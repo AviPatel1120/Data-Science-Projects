{
 "cells": [
  {
   "cell_type": "code",
   "execution_count": 3,
   "metadata": {},
   "outputs": [
    {
     "name": "stderr",
     "output_type": "stream",
     "text": [
      "C:\\Users\\patel\\AppData\\Local\\Temp\\ipykernel_19568\\217833862.py:1: DeprecationWarning: \n",
      "Pyarrow will become a required dependency of pandas in the next major release of pandas (pandas 3.0),\n",
      "(to allow more performant data types, such as the Arrow string type, and better interoperability with other libraries)\n",
      "but was not found to be installed on your system.\n",
      "If this would cause problems for you,\n",
      "please provide us feedback at https://github.com/pandas-dev/pandas/issues/54466\n",
      "        \n",
      "  import pandas as pd\n"
     ]
    }
   ],
   "source": [
    "import pandas as pd "
   ]
  },
  {
   "cell_type": "code",
   "execution_count": 2,
   "metadata": {},
   "outputs": [
    {
     "name": "stderr",
     "output_type": "stream",
     "text": [
      "C:\\Users\\patel\\AppData\\Local\\Temp\\ipykernel_26288\\1698350790.py:3: DtypeWarning: Columns (6,16,20,31,33,39,40,41,43,46,52,55,57,58,60,62,65,67,69,71) have mixed types. Specify dtype option on import or set low_memory=False.\n",
      "  df = pd.read_csv(\"C:\\\\Users\\\\patel\\\\OneDrive\\\\Desktop\\\\alt_fuel_stations_Jan_14_2024 (3).csv\")\n"
     ]
    },
    {
     "data": {
      "text/plain": [
       "Index(['Fuel Type Code', 'Station Name', 'Street Address',\n",
       "       'Intersection Directions', 'City', 'State', 'ZIP', 'Plus4',\n",
       "       'Station Phone', 'Status Code', 'Expected Date',\n",
       "       'Groups With Access Code', 'Access Days Time', 'Cards Accepted',\n",
       "       'BD Blends', 'NG Fill Type Code', 'NG PSI', 'EV Level1 EVSE Num',\n",
       "       'EV Level2 EVSE Num', 'EV DC Fast Count', 'EV Other Info', 'EV Network',\n",
       "       'EV Network Web', 'Geocode Status', 'Latitude', 'Longitude',\n",
       "       'Date Last Confirmed', 'ID', 'Updated At', 'Owner Type Code',\n",
       "       'Federal Agency ID', 'Federal Agency Name', 'Open Date',\n",
       "       'Hydrogen Status Link', 'NG Vehicle Class', 'LPG Primary',\n",
       "       'E85 Blender Pump', 'EV Connector Types', 'Country',\n",
       "       'Intersection Directions (French)', 'Access Days Time (French)',\n",
       "       'BD Blends (French)', 'Groups With Access Code (French)',\n",
       "       'Hydrogen Is Retail', 'Access Code', 'Access Detail Code',\n",
       "       'Federal Agency Code', 'Facility Type', 'CNG Dispenser Num',\n",
       "       'CNG On-Site Renewable Source', 'CNG Total Compression Capacity',\n",
       "       'CNG Storage Capacity', 'LNG On-Site Renewable Source',\n",
       "       'E85 Other Ethanol Blends', 'EV Pricing', 'EV Pricing (French)',\n",
       "       'LPG Nozzle Types', 'Hydrogen Pressures', 'Hydrogen Standards',\n",
       "       'CNG Fill Type Code', 'CNG PSI', 'CNG Vehicle Class',\n",
       "       'LNG Vehicle Class', 'EV On-Site Renewable Source', 'Restricted Access',\n",
       "       'RD Blends', 'RD Blends (French)', 'RD Blended with Biodiesel',\n",
       "       'RD Maximum Biodiesel Level', 'NPS Unit Name',\n",
       "       'CNG Station Sells Renewable Natural Gas',\n",
       "       'LNG Station Sells Renewable Natural Gas', 'Maximum Vehicle Class',\n",
       "       'EV Workplace Charging'],\n",
       "      dtype='object')"
      ]
     },
     "execution_count": 2,
     "metadata": {},
     "output_type": "execute_result"
    }
   ],
   "source": [
    "# Read CSV file \n",
    "\n",
    "df = pd.read_csv(\"C:\\\\Users\\\\patel\\\\OneDrive\\\\Desktop\\\\alt_fuel_stations_Jan_14_2024 (3).csv\")\n",
    "columns = df.columns\n",
    "columns"
   ]
  },
  {
   "cell_type": "code",
   "execution_count": 3,
   "metadata": {},
   "outputs": [
    {
     "name": "stdout",
     "output_type": "stream",
     "text": [
      "87.11971092201888\n",
      "4.797126174909133\n",
      "3.73851582617173\n",
      "1.8035583719229833\n",
      "1.6212951286969237\n",
      "0.6463987114412573\n",
      "0.1409361124945692\n",
      "0.13245875234451993\n",
      "Fuel Type Code\n",
      "ELEC    82214\n",
      "E85      4527\n",
      "LPG      3528\n",
      "BD       1702\n",
      "CNG      1530\n",
      "RD        610\n",
      "HY        133\n",
      "LNG       125\n",
      "Name: count, dtype: int64\n"
     ]
    }
   ],
   "source": [
    "# Solution-1\n",
    "\n",
    "num = df['Fuel Type Code'].value_counts()\n",
    "percenta = len(df['Fuel Type Code'])\n",
    "uniq_val = df['Fuel Type Code'].value_counts().unique()\n",
    "for val in df['Fuel Type Code'].value_counts():\n",
    "    percen = (val / percenta) * 100\n",
    "    print(percen)\n",
    "print(num)"
   ]
  },
  {
   "cell_type": "code",
   "execution_count": 4,
   "metadata": {},
   "outputs": [
    {
     "name": "stdout",
     "output_type": "stream",
     "text": [
      "State\n",
      "CA    19402\n",
      "QC     4573\n",
      "NY     4478\n",
      "Name: Number, dtype: int64\n",
      "State\n",
      "CA    20.559718\n",
      "QC     4.845871\n",
      "NY     4.745202\n",
      "Name: Percentage, dtype: float64\n"
     ]
    }
   ],
   "source": [
    "# Solution-2\n",
    "import pandas as pd\n",
    "\n",
    "top_states = df['State'].value_counts().head(3)\n",
    "result = pd.DataFrame({'Number': top_states, 'Percentage': top_states / len(df) * 100})\n",
    "print(result['Number'])\n",
    "print(result['Percentage'])\n"
   ]
  },
  {
   "cell_type": "code",
   "execution_count": 5,
   "metadata": {},
   "outputs": [
    {
     "name": "stdout",
     "output_type": "stream",
     "text": [
      "EV Network\n",
      "ChargePoint Network    39821\n",
      "Non-Networked          12355\n",
      "Blink Network           6451\n",
      "dtype: int64\n"
     ]
    }
   ],
   "source": [
    "# Solution-3\n",
    "\n",
    "top_3_EV_networks = df.groupby('EV Network').size().sort_values(ascending=False)[:3]\n",
    "print(top_3_EV_networks)\n"
   ]
  },
  {
   "cell_type": "code",
   "execution_count": 6,
   "metadata": {},
   "outputs": [
    {
     "name": "stdout",
     "output_type": "stream",
     "text": [
      "Total charging station in my state is: 173\n"
     ]
    }
   ],
   "source": [
    "# Solution-4\n",
    "\n",
    "filtered_stations = df[df['State'].eq('MS') & df['Fuel Type Code'].eq('ELEC')]\n",
    "result_count = len(filtered_stations)\n",
    "\n",
    "print(f\"Total charging station in my state is: {result_count}\")"
   ]
  },
  {
   "cell_type": "code",
   "execution_count": 7,
   "metadata": {},
   "outputs": [
    {
     "name": "stdout",
     "output_type": "stream",
     "text": [
      "The percentage of stations are owned by the Federal government is: 1.403%\n"
     ]
    }
   ],
   "source": [
    "# Solution-5\n",
    "\n",
    "owner_type_counts = df['Owner Type Code'].value_counts()\n",
    "\n",
    "fg_percentage = (owner_type_counts.get(\"FG\", 0) / len(df['Owner Type Code'])) * 100\n",
    "fg_percentage_rounded = round(fg_percentage, 3)\n",
    "\n",
    "print(f\"The percentage of stations are owned by the Federal government is: {fg_percentage_rounded}%\")"
   ]
  },
  {
   "cell_type": "code",
   "execution_count": 8,
   "metadata": {},
   "outputs": [
    {
     "name": "stdout",
     "output_type": "stream",
     "text": [
      "Top 11 Facility Types and their Counts:\n",
      "Facility Type\n",
      "CONVENIENCE_STORE    4912\n",
      "HOTEL                3454\n",
      "CAR_DEALER           3116\n",
      "GAS_STATION          2469\n",
      "FUEL_RESELLER        1467\n",
      "MUNI_GOV             1226\n",
      "OFFICE_BLDG          1163\n",
      "PARKING_LOT          1097\n",
      "RENTAL_CAR_RETURN    1009\n",
      "FED_GOV               982\n",
      "SHOPPING_CENTER       940\n",
      "Name: count, dtype: int64\n"
     ]
    }
   ],
   "source": [
    "# Solution-6\n",
    "\n",
    "facility_type_counts = df['Facility Type'].value_counts()  \n",
    "top_facility_types = facility_type_counts[:11] \n",
    "\n",
    "print(\"Top 11 Facility Types and their Counts:\")\n",
    "print(top_facility_types)\n",
    "\n",
    "# Here Out of this 11, top 3 Facilities are CONVENIENCE_STORE, HOTEL AND CAR_DEALER\n",
    "# NOW REASONS ARE\n",
    "# 1. CONVENIENCE_STORE : Shop smarter with our Scan & Go app, personalized offers, and community events, turning your convenience store visit into a seamless and enjoyable experience for the future.\n",
    "# 2. HOTEL : Transforming the conventional pit stop, our hotel offers electric vehicle charging stations alongside on-the-go spa treatments and wellness activities, ensuring guests refuel both their cars and personal well-being before hitting the road again. Explore a culinary adventure with gourmet food trucks, creating a memorable stopover experience that tantalizes taste buds and elevates the journey.\n",
    "# 3. CAR_RENTAL : Rev up your test drive experience with our exclusive Fuel and Thrill package – complimentary fuel recharge and a thrilling adventure route, making every test drive a journey to remember at our dealership!"
   ]
  },
  {
   "cell_type": "code",
   "execution_count": 9,
   "metadata": {},
   "outputs": [
    {
     "name": "stdout",
     "output_type": "stream",
     "text": [
      "946\n"
     ]
    }
   ],
   "source": [
    "# Solution-7\n",
    "\n",
    "filtered_stations = df.query(\"`EV Level2 EVSE Num` > 10\")\n",
    "result_count = len(filtered_stations)\n",
    "\n",
    "print(result_count)"
   ]
  },
  {
   "cell_type": "code",
   "execution_count": null,
   "metadata": {},
   "outputs": [],
   "source": [
    "# Solution-8\n",
    "\n",
    "#(1) How can we establish strategic partnerships with local governments and municipalities to facilitate the development and implementation of alternative fuel infrastructure?\n",
    "#(2) What investment is needed in technology and infrastructure to provide a seamless and efficient alternative fueling experience for customers?\n",
    "#(3) How can we develop and implement effective marketing and educational campaigns to raise awareness about the benefits of alternative fuels within the local community?"
   ]
  },
  {
   "cell_type": "code",
   "execution_count": 10,
   "metadata": {},
   "outputs": [
    {
     "name": "stdout",
     "output_type": "stream",
     "text": [
      "The state of AL appears 582 times.\n",
      "The state of GA appears 2319 times.\n",
      "The state of AR appears 499 times.\n",
      "The state of MA appears 3274 times.\n",
      "The state of NY appears 4478 times.\n",
      "The state of IN appears 951 times.\n",
      "The state of WY appears 141 times.\n",
      "The state of NM appears 400 times.\n",
      "The state of KS appears 725 times.\n",
      "The state of ID appears 247 times.\n",
      "The state of TX appears 4168 times.\n",
      "The state of UT appears 1024 times.\n",
      "The state of MN appears 1574 times.\n",
      "The state of NE appears 432 times.\n",
      "The state of CO appears 2513 times.\n",
      "The state of OR appears 1437 times.\n",
      "The state of OK appears 707 times.\n",
      "The state of PA appears 2196 times.\n",
      "The state of CA appears 19402 times.\n",
      "The state of FL appears 4061 times.\n",
      "The state of SC appears 756 times.\n",
      "The state of AZ appears 1468 times.\n",
      "The state of NV appears 686 times.\n",
      "The state of VA appears 1877 times.\n",
      "The state of WA appears 2557 times.\n",
      "The state of TN appears 1142 times.\n",
      "The state of MD appears 2010 times.\n",
      "The state of SD appears 198 times.\n",
      "The state of IA appears 1099 times.\n",
      "The state of MO appears 1549 times.\n",
      "The state of CT appears 939 times.\n",
      "The state of ND appears 154 times.\n",
      "The state of WI appears 1015 times.\n",
      "The state of ME appears 514 times.\n",
      "The state of NJ appears 1451 times.\n",
      "The state of NC appears 2034 times.\n",
      "The state of MS appears 258 times.\n",
      "The state of KY appears 443 times.\n",
      "The state of OH appears 2042 times.\n",
      "The state of MI appears 1919 times.\n",
      "The state of MT appears 158 times.\n",
      "The state of IL appears 2290 times.\n",
      "The state of LA appears 373 times.\n",
      "The state of RI appears 350 times.\n",
      "The state of NH appears 299 times.\n",
      "The state of WV appears 215 times.\n",
      "The state of HI appears 435 times.\n",
      "The state of VT appears 414 times.\n",
      "The state of AK appears 66 times.\n",
      "The state of DC appears 443 times.\n",
      "The state of DE appears 248 times.\n",
      "The state of AB appears 887 times.\n",
      "The state of QC appears 4573 times.\n",
      "The state of MB appears 340 times.\n",
      "The state of SK appears 242 times.\n",
      "The state of ON appears 4379 times.\n",
      "The state of BC appears 2527 times.\n",
      "The state of NL appears 141 times.\n",
      "The state of PE appears 166 times.\n",
      "The state of NB appears 255 times.\n",
      "The state of NS appears 245 times.\n",
      "The state of YT appears 41 times.\n",
      "The state of NT appears 3 times.\n",
      "The state of PR appears 22 times.\n",
      "The state of nan appears 15 times.\n",
      "The state of KA appears 1 times.\n"
     ]
    }
   ],
   "source": [
    "# Solution-9\n",
    "\n",
    "state_frequency = {}  \n",
    "for state in df['State']:\n",
    "    if state in state_frequency:\n",
    "        state_frequency[state] += 1\n",
    "    else:\n",
    "        state_frequency[state] = 1\n",
    "\n",
    "for state, count in state_frequency.items():\n",
    "    print(f\"The state of {state} appears {count} times.\")\n",
    "\n",
    "# Investing in a new alternative fuel center is a strategic move in response to the escalating global shift towards sustainable energy. Governments and industries are increasingly backing alternative fuels, creating a conducive environment for growth.     "
   ]
  },
  {
   "cell_type": "code",
   "execution_count": 11,
   "metadata": {},
   "outputs": [
    {
     "name": "stdout",
     "output_type": "stream",
     "text": [
      "count     94369\n",
      "unique        8\n",
      "top        ELEC\n",
      "freq      82214\n",
      "Name: Fuel Type Code, dtype: object\n",
      "Total Missing values in Fuel Type Code: 0\n",
      "Total Null values in Fuel Type Code (alternative): 0\n",
      "Total Federal Government Electric Stations: 1034\n"
     ]
    }
   ],
   "source": [
    "# Solution-10\n",
    "\n",
    "fuel_column = df['Fuel Type Code']\n",
    "\n",
    "total_missing_values = fuel_column.isna().sum()\n",
    "total_null_values_alt = fuel_column.isnull().sum()\n",
    "\n",
    "print(fuel_column.describe())\n",
    "print(f'Total Missing values in Fuel Type Code: {total_missing_values}')\n",
    "print(f'Total Null values in Fuel Type Code (alternative): {total_null_values_alt}')\n",
    "\n",
    "fg_electric_stations = df[(df['Owner Type Code'] == 'FG') & (df['Fuel Type Code'] == 'ELEC')]\n",
    "\n",
    "print(f\"Total Federal Government Electric Stations: {fg_electric_stations.shape[0]}\")\n",
    "\n",
    "# Insight is : In response to the growing popularity of electric vehicles, electric charging stations are becoming a common sight. The federal government is actively endorsing and encouraging the shift towards electric transportation, contributing to the widespread adoption of this eco-friendly mode of travel."
   ]
  }
 ],
 "metadata": {
  "kernelspec": {
   "display_name": "Python 3",
   "language": "python",
   "name": "python3"
  },
  "language_info": {
   "codemirror_mode": {
    "name": "ipython",
    "version": 3
   },
   "file_extension": ".py",
   "mimetype": "text/x-python",
   "name": "python",
   "nbconvert_exporter": "python",
   "pygments_lexer": "ipython3",
   "version": "3.12.1"
  }
 },
 "nbformat": 4,
 "nbformat_minor": 2
}
